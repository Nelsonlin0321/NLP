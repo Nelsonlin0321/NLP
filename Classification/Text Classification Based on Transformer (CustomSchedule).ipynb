{
  "nbformat": 4,
  "nbformat_minor": 0,
  "metadata": {
    "accelerator": "GPU",
    "colab": {
      "name": "Text Classification Based on Transformer (CustomSchedule).ipynb",
      "provenance": [],
      "collapsed_sections": [
        "rk9RGI3ebfa3",
        "xVixu6X3bfcQ"
      ]
    },
    "kernelspec": {
      "display_name": "Python 3",
      "language": "python",
      "name": "python3"
    },
    "language_info": {
      "codemirror_mode": {
        "name": "ipython",
        "version": 3
      },
      "file_extension": ".py",
      "mimetype": "text/x-python",
      "name": "python",
      "nbconvert_exporter": "python",
      "pygments_lexer": "ipython3",
      "version": "3.7.6"
    }
  },
  "cells": [
    {
      "cell_type": "markdown",
      "metadata": {
        "colab_type": "text",
        "id": "1Z9gfiZmbfWD"
      },
      "source": [
        "# Text Classification Based on Transformer Block"
      ]
    },
    {
      "cell_type": "code",
      "metadata": {
        "id": "4CvArUrCZM5N",
        "colab_type": "code",
        "colab": {}
      },
      "source": [
        "import tensorflow as tf\n",
        "import tensorflow.keras as keras\n",
        "import numpy as np\n",
        "import matplotlib.pyplot as plt\n",
        "import time"
      ],
      "execution_count": 0,
      "outputs": []
    },
    {
      "cell_type": "markdown",
      "metadata": {
        "colab_type": "text",
        "id": "oP58iEeZbfWM"
      },
      "source": [
        "## 1）Read Data"
      ]
    },
    {
      "cell_type": "code",
      "metadata": {
        "id": "HcoZ7uZKZM5T",
        "colab_type": "code",
        "colab": {}
      },
      "source": [
        "vocab_size = 20000  # Only consider the top 20k words\n",
        "maxlen = 200  # Only consider the first 200 words of each movie review\n",
        "(x_train, y_train), (x_val, y_val) = keras.datasets.imdb.load_data(num_words=vocab_size,skip_top=1,maxlen=maxlen)"
      ],
      "execution_count": 0,
      "outputs": []
    },
    {
      "cell_type": "code",
      "metadata": {
        "id": "TJadXQfSZM5W",
        "colab_type": "code",
        "colab": {}
      },
      "source": [
        "word_index = keras.datasets.imdb.get_word_index()"
      ],
      "execution_count": 0,
      "outputs": []
    },
    {
      "cell_type": "code",
      "metadata": {
        "id": "Ivd_TnRQZM5a",
        "colab_type": "code",
        "colab": {}
      },
      "source": [
        "index_word = {index:word for (word,index) in word_index.items()}"
      ],
      "execution_count": 0,
      "outputs": []
    },
    {
      "cell_type": "code",
      "metadata": {
        "id": "-AAVWsPOZM5e",
        "colab_type": "code",
        "colab": {}
      },
      "source": [
        "def index_to_word(indexs):\n",
        "    words = \" \".join([index_word[index] for index in indexs])\n",
        "    return words\n"
      ],
      "execution_count": 0,
      "outputs": []
    },
    {
      "cell_type": "code",
      "metadata": {
        "id": "zxBFjxKtZM5g",
        "colab_type": "code",
        "colab": {
          "base_uri": "https://localhost:8080/",
          "height": 199
        },
        "outputId": "30b0377d-94f6-4004-c00f-1a65922745f1"
      },
      "source": [
        "# Inspecting some of the text\n",
        "for i in range(3):\n",
        "    print(\"Text #\",i+1)\n",
        "    print(index_to_word(x_train[i]))\n",
        "    print()"
      ],
      "execution_count": 6,
      "outputs": [
        {
          "output_type": "stream",
          "text": [
            "Text # 1\n",
            "the thought solid thought senator do making to is spot nomination assumed while he of jack in where picked as getting on was did hands fact characters to always life thrillers not as me can't in at are br of sure your way of little it strongly random to view of love it so principles of guy it used producer of where it of here icon film of outside to don't all unique some like of direction it if out her imagination below keep of queen he diverse to makes this stretch stefan of solid it thought begins br senator machinations budget worthwhile though ok brokedown awaiting for ever better were and diverse for budget look kicked any to of making it out and follows for effects show to show cast this family us scenes more it severe making senator to and finds tv tend to of emerged these thing wants but and an beckinsale cult as it is video do you david see scenery it in few those are of ship for with of wild to one is very work dark they don't do dvd with those them\n",
            "\n",
            "Text # 2\n",
            "the as there in at by br of sure many br of proving no only women was than doesn't as you never of hat night that with ignored they bad out superman plays of how star so stories film comes defense date of wide they don't do that had with of hollywood br of my seeing fan this of pop out body shots in having because cause it's stick passing first were enjoys for from look seven sense from me and die in character as cuban issues but is you that isn't one song just is him less are strongly not are you that different just even by this of you there is eight when it part are film's love film's 80's was big also light don't and as it in character looked cinematography so stories is far br man acting\n",
            "\n",
            "Text # 3\n",
            "the sure themes br only acting i i was favourite as on she they hat but already most was scares minor if flash was well also good 8 older was with enjoy used enjoy phone too i'm of you an job br only women than robot to was with these unexpected sure little sure guy sure on was one your life was children in particularly only yes she sort is jerry but so stories them final known to have does such most that supposed imagination very moving antonioni only yes this was seconds for imagination on this of and to plays that nights to for supposed still been last fan always your bit that strong said clean knowing br theory to car masterpiece out in also show for film's was tale have flash but look part i'm film as to penelope is script hard br only acting\n",
            "\n"
          ],
          "name": "stdout"
        }
      ]
    },
    {
      "cell_type": "markdown",
      "metadata": {
        "colab_type": "text",
        "id": "JBb8eg_AbfXL"
      },
      "source": [
        "## 2) Text Preprocessing"
      ]
    },
    {
      "cell_type": "markdown",
      "metadata": {
        "colab_type": "text",
        "id": "hJwd94FUbfXM"
      },
      "source": [
        "#### 1) Padding"
      ]
    },
    {
      "cell_type": "code",
      "metadata": {
        "id": "nqarrokSZM5o",
        "colab_type": "code",
        "colab": {
          "base_uri": "https://localhost:8080/",
          "height": 143
        },
        "outputId": "c9ec0f74-023d-441a-87ce-1cd74c1a6a23"
      },
      "source": [
        "tf.keras.preprocessing.sequence.pad_sequences(x_train,padding='post',maxlen=maxlen)"
      ],
      "execution_count": 7,
      "outputs": [
        {
          "output_type": "execute_result",
          "data": {
            "text/plain": [
              "array([[   1,  194, 1153, ...,    0,    0,    0],\n",
              "       [   1,   14,   47, ...,    0,    0,    0],\n",
              "       [   1,  249, 1323, ...,    0,    0,    0],\n",
              "       ...,\n",
              "       [   1,  118, 2362, ...,    0,    0,    0],\n",
              "       [   1,    6,  682, ...,    0,    0,    0],\n",
              "       [   1,   13, 2684, ...,    0,    0,    0]], dtype=int32)"
            ]
          },
          "metadata": {
            "tags": []
          },
          "execution_count": 7
        }
      ]
    },
    {
      "cell_type": "code",
      "metadata": {
        "colab_type": "code",
        "id": "eEr8o_28bfZy",
        "colab": {}
      },
      "source": [
        "def get_max_length(tensor):\n",
        "    return max(len(t) for t in tensor)\n",
        "\n",
        "def padding(tensor):\n",
        "\n",
        "    tensor = tf.keras.preprocessing.sequence.pad_sequences(tensor,padding='post',maxlen=maxlen)\n",
        "    \n",
        "    tensor = tf.convert_to_tensor(tensor)\n",
        "    return tensor"
      ],
      "execution_count": 0,
      "outputs": []
    },
    {
      "cell_type": "code",
      "metadata": {
        "id": "Ty0n2zHXZM51",
        "colab_type": "code",
        "colab": {}
      },
      "source": [
        "input_tensor_train = padding(x_train)\n",
        "\n",
        "output_tensor_train = tf.convert_to_tensor(y_train,dtype=tf.float32)"
      ],
      "execution_count": 0,
      "outputs": []
    },
    {
      "cell_type": "code",
      "metadata": {
        "id": "zifGA6x5ZM54",
        "colab_type": "code",
        "colab": {
          "base_uri": "https://localhost:8080/",
          "height": 35
        },
        "outputId": "016f50a4-2c24-48a7-d3be-7099b57e0149"
      },
      "source": [
        "input_tensor_train.shape,output_tensor_train.shape"
      ],
      "execution_count": 10,
      "outputs": [
        {
          "output_type": "execute_result",
          "data": {
            "text/plain": [
              "(TensorShape([25000, 200]), TensorShape([25000]))"
            ]
          },
          "metadata": {
            "tags": []
          },
          "execution_count": 10
        }
      ]
    },
    {
      "cell_type": "code",
      "metadata": {
        "id": "TByqgxoOZM57",
        "colab_type": "code",
        "colab": {}
      },
      "source": [
        "\n",
        "input_tensor_val = padding(x_val)\n",
        "output_tensor_val = tf.convert_to_tensor(y_val,dtype=tf.float32)"
      ],
      "execution_count": 0,
      "outputs": []
    },
    {
      "cell_type": "code",
      "metadata": {
        "id": "twRq7P7yZM6A",
        "colab_type": "code",
        "outputId": "89baaac5-29a4-4ebd-9f3b-a8021124c8b9",
        "colab": {
          "base_uri": "https://localhost:8080/",
          "height": 35
        }
      },
      "source": [
        "input_tensor_val.shape,output_tensor_val.shape"
      ],
      "execution_count": 12,
      "outputs": [
        {
          "output_type": "execute_result",
          "data": {
            "text/plain": [
              "(TensorShape([3913, 200]), TensorShape([3913]))"
            ]
          },
          "metadata": {
            "tags": []
          },
          "execution_count": 12
        }
      ]
    },
    {
      "cell_type": "markdown",
      "metadata": {
        "colab_type": "text",
        "id": "rk9RGI3ebfa3"
      },
      "source": [
        "#### 2) DataSet Creating"
      ]
    },
    {
      "cell_type": "code",
      "metadata": {
        "colab_type": "code",
        "id": "m1KiH7Bmbfa4",
        "outputId": "52ece551-dfe7-4c96-b479-608ee490512b",
        "colab": {
          "base_uri": "https://localhost:8080/",
          "height": 0
        }
      },
      "source": [
        "BUFFER_SIZE = len(x_train)\n",
        "BATCH_SIZE = 64\n",
        "\n",
        "dataset = tf.data.Dataset.from_tensor_slices((input_tensor_train, output_tensor_train)).shuffle(BUFFER_SIZE)\n",
        "dataset = dataset.batch(BATCH_SIZE, drop_remainder=True)\n",
        "\n",
        "example_input_batch, example_target_batch = next(iter(dataset))\n",
        "example_input_batch.shape, example_target_batch.shape"
      ],
      "execution_count": 13,
      "outputs": [
        {
          "output_type": "execute_result",
          "data": {
            "text/plain": [
              "(TensorShape([64, 200]), TensorShape([64]))"
            ]
          },
          "metadata": {
            "tags": []
          },
          "execution_count": 13
        }
      ]
    },
    {
      "cell_type": "code",
      "metadata": {
        "colab_type": "code",
        "id": "QACG-ARxbfbG",
        "outputId": "9a6227b6-19ec-491d-bbc7-ed8c83ba9e0b",
        "colab": {
          "base_uri": "https://localhost:8080/",
          "height": 0
        }
      },
      "source": [
        "example_input_batch"
      ],
      "execution_count": 14,
      "outputs": [
        {
          "output_type": "execute_result",
          "data": {
            "text/plain": [
              "<tf.Tensor: shape=(64, 200), dtype=int32, numpy=\n",
              "array([[    1,    14,   390, ...,     0,     0,     0],\n",
              "       [    1,    13,   119, ...,     0,     0,     0],\n",
              "       [    1,   198,    61, ...,     0,     0,     0],\n",
              "       ...,\n",
              "       [    1, 13907,   174, ...,     0,     0,     0],\n",
              "       [    1,   112,    15, ...,     0,     0,     0],\n",
              "       [    1,    12,   127, ...,     0,     0,     0]], dtype=int32)>"
            ]
          },
          "metadata": {
            "tags": []
          },
          "execution_count": 14
        }
      ]
    },
    {
      "cell_type": "code",
      "metadata": {
        "id": "Q7rKhV6zZM6J",
        "colab_type": "code",
        "colab": {
          "base_uri": "https://localhost:8080/",
          "height": 0
        },
        "outputId": "d90a356c-8f6a-4533-ae90-cae5dcf42bb1"
      },
      "source": [
        "example_target_batch"
      ],
      "execution_count": 15,
      "outputs": [
        {
          "output_type": "execute_result",
          "data": {
            "text/plain": [
              "<tf.Tensor: shape=(64,), dtype=float32, numpy=\n",
              "array([0., 0., 1., 1., 0., 1., 1., 1., 1., 1., 0., 1., 0., 1., 0., 1., 0.,\n",
              "       0., 1., 1., 0., 0., 1., 0., 0., 1., 1., 0., 1., 1., 0., 0., 0., 1.,\n",
              "       1., 1., 1., 0., 1., 0., 0., 0., 0., 0., 0., 1., 0., 0., 1., 1., 1.,\n",
              "       0., 0., 0., 1., 0., 0., 1., 1., 1., 1., 1., 1., 1.], dtype=float32)>"
            ]
          },
          "metadata": {
            "tags": []
          },
          "execution_count": 15
        }
      ]
    },
    {
      "cell_type": "markdown",
      "metadata": {
        "colab_type": "text",
        "id": "42vixHDdbfbN"
      },
      "source": [
        "## 3) Transformer"
      ]
    },
    {
      "cell_type": "markdown",
      "metadata": {
        "id": "gVfcGawVZM6N",
        "colab_type": "text"
      },
      "source": [
        "<img src=\"https://tensorflow.google.cn/images/tutorials/transformer/transformer.png\" width=\"600\" alt=\"transformer\">"
      ]
    },
    {
      "cell_type": "markdown",
      "metadata": {
        "colab_type": "text",
        "id": "2JBE-sQCbfbO"
      },
      "source": [
        "##### (1 )Embedding and Positional encoding  Layers"
      ]
    },
    {
      "cell_type": "markdown",
      "metadata": {
        "id": "8oN1xOM-ZM6P",
        "colab_type": "text"
      },
      "source": [
        "$$\\Large{PE_{(pos, 2i)} = sin(pos / 10000^{2i / d_{model}})} $$\n",
        "$$\\Large{PE_{(pos, 2i+1)} = cos(pos / 10000^{2i / d_{model}})} $$"
      ]
    },
    {
      "cell_type": "code",
      "metadata": {
        "colab_type": "code",
        "id": "sQ_EBGdcbfbQ",
        "colab": {}
      },
      "source": [
        "def get_angles(pos, i, d_model):\n",
        "    angle_rates = 1 / np.power(10000, (2 * (i//2)) / np.float32(d_model))\n",
        "    return pos * angle_rates"
      ],
      "execution_count": 0,
      "outputs": []
    },
    {
      "cell_type": "code",
      "metadata": {
        "colab_type": "code",
        "id": "9dwyJ0aubfba",
        "colab": {}
      },
      "source": [
        "def positional_encoding(position, d_model):\n",
        "    angle_rads = get_angles(np.arange(position)[:, np.newaxis],\n",
        "                          np.arange(d_model)[np.newaxis, :],\n",
        "                          d_model)\n",
        "\n",
        "    # 将 sin 应用于数组中的偶数索引（indices）；2i\n",
        "    angle_rads[:, 0::2] = np.sin(angle_rads[:, 0::2])\n",
        "\n",
        "    # 将 cos 应用于数组中的奇数索引；2i+1\n",
        "    angle_rads[:, 1::2] = np.cos(angle_rads[:, 1::2])\n",
        "\n",
        "    pos_encoding = angle_rads[np.newaxis, ...]\n",
        "\n",
        "    return tf.cast(pos_encoding, dtype=tf.float32)"
      ],
      "execution_count": 0,
      "outputs": []
    },
    {
      "cell_type": "code",
      "metadata": {
        "id": "iLdsyQKvZM6V",
        "colab_type": "code",
        "colab": {}
      },
      "source": [
        "class EmbeddingAndPosEncoder(tf.keras.layers.Layer):\n",
        "    def __init__(self,vocab_size,d_model):\n",
        "        super(EmbeddingAndPosEncoder,self).__init__()\n",
        "        self.d_model = d_model\n",
        "        self.embedding = tf.keras.layers.Embedding(input_dim=vocab_size,output_dim=d_model)\n",
        "        \n",
        "    def call(self,x):\n",
        "        x = self.embedding(x)\n",
        "        seq_length = x.shape[1]\n",
        "        x *= tf.math.sqrt(tf.cast(self.d_model, tf.float32))\n",
        "        posencode_out = positional_encoding(seq_length,self.d_model)\n",
        "        out = x+posencode_out\n",
        "        return out "
      ],
      "execution_count": 0,
      "outputs": []
    },
    {
      "cell_type": "code",
      "metadata": {
        "id": "SeUc9PCgZM6Y",
        "colab_type": "code",
        "colab": {}
      },
      "source": [
        "embedding_dim = 512"
      ],
      "execution_count": 0,
      "outputs": []
    },
    {
      "cell_type": "code",
      "metadata": {
        "id": "zCKxYUPuZM6a",
        "colab_type": "code",
        "colab": {}
      },
      "source": [
        "EmbedAndPosEncoderLayer = EmbeddingAndPosEncoder(vocab_size=vocab_size,d_model=embedding_dim)"
      ],
      "execution_count": 0,
      "outputs": []
    },
    {
      "cell_type": "code",
      "metadata": {
        "id": "oEtcRBaqZM6d",
        "colab_type": "code",
        "colab": {}
      },
      "source": [
        "embedding_out = EmbedAndPosEncoderLayer(example_input_batch)"
      ],
      "execution_count": 0,
      "outputs": []
    },
    {
      "cell_type": "code",
      "metadata": {
        "id": "5JdBi8-YZM6j",
        "colab_type": "code",
        "colab": {
          "base_uri": "https://localhost:8080/",
          "height": 35
        },
        "outputId": "f09659a4-8f64-4520-df02-34f4638f7322"
      },
      "source": [
        "embedding_out.shape"
      ],
      "execution_count": 22,
      "outputs": [
        {
          "output_type": "execute_result",
          "data": {
            "text/plain": [
              "TensorShape([64, 200, 512])"
            ]
          },
          "metadata": {
            "tags": []
          },
          "execution_count": 22
        }
      ]
    },
    {
      "cell_type": "markdown",
      "metadata": {
        "id": "WsMwZbFaZM6n",
        "colab_type": "text"
      },
      "source": [
        "##### (2 ) Multi-Head Attention Layers"
      ]
    },
    {
      "cell_type": "markdown",
      "metadata": {
        "id": "l_Fp9Aq9ZM6n",
        "colab_type": "text"
      },
      "source": [
        "<img src=\"https://tensorflow.google.cn/images/tutorials/transformer/scaled_attention.png\" width=\"500\" alt=\"scaled_dot_product_attention\">"
      ]
    },
    {
      "cell_type": "markdown",
      "metadata": {
        "id": "VzxJzDdvZM6o",
        "colab_type": "text"
      },
      "source": [
        "$$\\Large{Attention(Q, K, V) = softmax_k(\\frac{QK^T}{\\sqrt{d_k}}) V} $$"
      ]
    },
    {
      "cell_type": "code",
      "metadata": {
        "colab_type": "code",
        "id": "Xi0_urEhbfb-",
        "colab": {}
      },
      "source": [
        "def scaled_dot_product_attention(q, k, v):\n",
        "\n",
        "    matmul_qk = tf.matmul(q, k, transpose_b=True)  # (..., seq_len_q, seq_len_k)\n",
        "\n",
        "    # 缩放 matmul_qk\n",
        "    dk = tf.cast(tf.shape(k)[-1], tf.float32)\n",
        "    scaled_attention_logits = matmul_qk / tf.math.sqrt(dk)\n",
        "\n",
        "    attention_weights = tf.nn.softmax(scaled_attention_logits, axis=-1)  # (..., seq_len_q, seq_len_k)\n",
        "\n",
        "    output = tf.matmul(attention_weights, v)  # (..., seq_len_q, depth_v)\n",
        "\n",
        "    return output, attention_weights"
      ],
      "execution_count": 0,
      "outputs": []
    },
    {
      "cell_type": "markdown",
      "metadata": {
        "id": "g-HQcDjdZM6s",
        "colab_type": "text"
      },
      "source": [
        "<img src=\"https://tensorflow.google.cn/images/tutorials/transformer/multi_head_attention.png\" width=\"500\" alt=\"multi-head attention\">"
      ]
    },
    {
      "cell_type": "code",
      "metadata": {
        "colab_type": "code",
        "id": "gA0PTy7zbfcK",
        "colab": {}
      },
      "source": [
        "class MultiHeadAttention(tf.keras.layers.Layer):\n",
        "    def __init__(self, d_model, num_heads):\n",
        "        super(MultiHeadAttention, self).__init__()\n",
        "        self.num_heads = num_heads\n",
        "        self.d_model = d_model\n",
        "\n",
        "        assert d_model % self.num_heads == 0\n",
        "\n",
        "        self.depth = d_model // self.num_heads\n",
        "\n",
        "        self.wq = tf.keras.layers.Dense(d_model)\n",
        "        self.wk = tf.keras.layers.Dense(d_model)\n",
        "        self.wv = tf.keras.layers.Dense(d_model)\n",
        "\n",
        "        self.dense = tf.keras.layers.Dense(d_model)\n",
        "\n",
        "    def split_heads(self, x, batch_size):\n",
        "\n",
        "        x = tf.reshape(x, (batch_size, -1, self.num_heads, self.depth))\n",
        "        return tf.transpose(x, perm=[0, 2, 1, 3])\n",
        "\n",
        "    def call(self, v, k, q):\n",
        "        batch_size = tf.shape(q)[0]\n",
        "\n",
        "        q = self.wq(q)  # (batch_size, seq_len, d_model)\n",
        "        k = self.wk(k)  # (batch_size, seq_len, d_model)\n",
        "        v = self.wv(v)  # (batch_size, seq_len, d_model)\n",
        "\n",
        "        q = self.split_heads(q, batch_size)  # (batch_size, num_heads, seq_len_q, depth)\n",
        "        k = self.split_heads(k, batch_size)  # (batch_size, num_heads, seq_len_k, depth)\n",
        "        v = self.split_heads(v, batch_size)  # (batch_size, num_heads, seq_len_v, depth)\n",
        "\n",
        "        # scaled_attention.shape == (batch_size, num_heads, seq_len_q, depth)\n",
        "        # attention_weights.shape == (batch_size, num_heads, seq_len_q, seq_len_k)\n",
        "        scaled_attention, attention_weights = scaled_dot_product_attention(q, k, v)\n",
        "\n",
        "        scaled_attention = tf.transpose(scaled_attention, perm=[0, 2, 1, 3])  # (batch_size, seq_len_q, num_heads, depth)\n",
        "\n",
        "        concat_attention = tf.reshape(scaled_attention, \n",
        "                                      (batch_size, -1, self.d_model))  # (batch_size, seq_len_q, d_model)\n",
        "\n",
        "        output = self.dense(concat_attention)  # (batch_size, seq_len_q, d_model)\n",
        "\n",
        "        return output, attention_weights"
      ],
      "execution_count": 0,
      "outputs": []
    },
    {
      "cell_type": "code",
      "metadata": {
        "id": "xOiMHtUoZM6v",
        "colab_type": "code",
        "colab": {}
      },
      "source": [
        "MultiHeadAttentionLayer = MultiHeadAttention(512,8)"
      ],
      "execution_count": 0,
      "outputs": []
    },
    {
      "cell_type": "code",
      "metadata": {
        "id": "lNL7F7VaZM60",
        "colab_type": "code",
        "colab": {}
      },
      "source": [
        "v,k,q = embedding_out,embedding_out,embedding_out"
      ],
      "execution_count": 0,
      "outputs": []
    },
    {
      "cell_type": "code",
      "metadata": {
        "id": "XL0WudCwZM63",
        "colab_type": "code",
        "colab": {}
      },
      "source": [
        "Attention,Weights = MultiHeadAttentionLayer(v,k,q)"
      ],
      "execution_count": 0,
      "outputs": []
    },
    {
      "cell_type": "code",
      "metadata": {
        "id": "hKwpJhesZM65",
        "colab_type": "code",
        "colab": {
          "base_uri": "https://localhost:8080/",
          "height": 35
        },
        "outputId": "c1242911-aada-49f5-cd32-f14d1ac346fc"
      },
      "source": [
        "Attention.shape,Weights.shape"
      ],
      "execution_count": 28,
      "outputs": [
        {
          "output_type": "execute_result",
          "data": {
            "text/plain": [
              "(TensorShape([64, 200, 512]), TensorShape([64, 8, 200, 200]))"
            ]
          },
          "metadata": {
            "tags": []
          },
          "execution_count": 28
        }
      ]
    },
    {
      "cell_type": "markdown",
      "metadata": {
        "colab_type": "text",
        "id": "xVixu6X3bfcQ"
      },
      "source": [
        "#### (3) Point wise feed forward and add&Norm Layer"
      ]
    },
    {
      "cell_type": "code",
      "metadata": {
        "colab_type": "code",
        "id": "l6qRihqxbfcZ",
        "colab": {}
      },
      "source": [
        "def point_wise_feed_forward_network(d_model, dff):\n",
        "    return tf.keras.Sequential([\n",
        "      tf.keras.layers.Dense(dff, activation='relu'),  # (batch_size, seq_len, dff)\n",
        "      tf.keras.layers.Dense(d_model)  # (batch_size, seq_len, d_model)\n",
        "  ])"
      ],
      "execution_count": 0,
      "outputs": []
    },
    {
      "cell_type": "markdown",
      "metadata": {
        "id": "tYondeUOZM7C",
        "colab_type": "text"
      },
      "source": [
        "#### (4) Encoder Layers"
      ]
    },
    {
      "cell_type": "code",
      "metadata": {
        "id": "8xudmj5yZM7C",
        "colab_type": "code",
        "colab": {}
      },
      "source": [
        "class Encoder(tf.keras.layers.Layer):\n",
        "    def __init__(self,d_model,num_heads,dff,rate):\n",
        "        super(Encoder,self).__init__()\n",
        "        self.mha = MultiHeadAttention(d_model, num_heads)\n",
        "        self.dropout1 = tf.keras.layers.Dropout(rate)\n",
        "        self.ffn = point_wise_feed_forward_network(d_model,dff)\n",
        "        self.dropout2 = tf.keras.layers.Dropout(rate)\n",
        "        self.normLayer1 = tf.keras.layers.LayerNormalization(epsilon=1e-6)\n",
        "        self.normLayer2 = tf.keras.layers.LayerNormalization(epsilon=1e-6)\n",
        "        \n",
        "    def call(self,x,training):\n",
        "        ### attention\n",
        "        attn_output,attentionWeight = self.mha(x,x,x)\n",
        "        ### add&Norm\n",
        "        attn_output = self.dropout1(attn_output,training=training)\n",
        "        out1 = self.normLayer1(attn_output+x)\n",
        "        \n",
        "        out2 = self.ffn(out1)\n",
        "        out2 = self.dropout2(out2,training = training)\n",
        "        out2 = self.normLayer2(out2+out1)\n",
        "        \n",
        "        return out2,attentionWeight\n"
      ],
      "execution_count": 0,
      "outputs": []
    },
    {
      "cell_type": "code",
      "metadata": {
        "id": "2OTgcyrbZM7G",
        "colab_type": "code",
        "colab": {}
      },
      "source": [
        "encoderLayer = Encoder(512,8,1024,0.1)"
      ],
      "execution_count": 0,
      "outputs": []
    },
    {
      "cell_type": "code",
      "metadata": {
        "id": "ZurEDZNJZM7L",
        "colab_type": "code",
        "colab": {}
      },
      "source": [
        "sampleEncderOutput,sampleAttentionWeight = encoderLayer(tf.random.uniform([64,200,512]),True)"
      ],
      "execution_count": 0,
      "outputs": []
    },
    {
      "cell_type": "markdown",
      "metadata": {
        "colab_type": "text",
        "id": "bh30d2zZbfc3"
      },
      "source": [
        "#### (6) Transfomer"
      ]
    },
    {
      "cell_type": "code",
      "metadata": {
        "colab_type": "code",
        "id": "Dg3qsf1Zbfc4",
        "colab": {}
      },
      "source": [
        "class Transformer(tf.keras.Model):\n",
        "    def __init__(self,vocab_size,d_model,num_layers,num_heads,dff,rate,final_hidden_units,num_classes):\n",
        "        super(Transformer, self).__init__()\n",
        "        self.d_model = d_model\n",
        "        \n",
        "        self.embedAndPosEncoderLayer = EmbeddingAndPosEncoder(vocab_size,d_model)\n",
        "        self.enc_layers = [Encoder(d_model, num_heads, dff, rate) for _ in range(num_layers)]\n",
        "        self.globalPooling= tf.keras.layers.GlobalAveragePooling1D()\n",
        "        self.dropout1 = tf.keras.layers.Dropout(rate)\n",
        "        self.dense = tf.keras.layers.Dense(final_hidden_units,activation=\"relu\")\n",
        "        self.dropout2 = tf.keras.layers.Dropout(rate)\n",
        "        self.final_layer = tf.keras.layers.Dense(num_classes,activation=\"softmax\")\n",
        "        \n",
        "\n",
        "    def call(self,inp,training):\n",
        "        attention_weights = []\n",
        "        \n",
        "        x = self.embedAndPosEncoderLayer(inp)\n",
        "        \n",
        "        for encoderLayer in self.enc_layers:\n",
        "            x,attentionweight = encoderLayer(x,training)\n",
        "            attention_weights.append(attentionweight)\n",
        "        \n",
        "        x = self.globalPooling(x)\n",
        "        x = self.dropout1(x,training)\n",
        "        x = self.dense(x)\n",
        "        x = self.dropout2(x,training)\n",
        "\n",
        "        final_output = self.final_layer(x)\n",
        "\n",
        "        return final_output,attention_weights"
      ],
      "execution_count": 0,
      "outputs": []
    },
    {
      "cell_type": "code",
      "metadata": {
        "id": "DJsrHBXEZM7S",
        "colab_type": "code",
        "colab": {}
      },
      "source": [
        "sample_transformer = Transformer(vocab_size=2000,d_model=512,num_layers=3,num_heads=8,dff=1024,rate=0.1,final_hidden_units=64,num_classes=2)"
      ],
      "execution_count": 0,
      "outputs": []
    },
    {
      "cell_type": "code",
      "metadata": {
        "id": "ymjiTk6rZM7Y",
        "colab_type": "code",
        "colab": {}
      },
      "source": [
        "sample_output,sample_attentionWeight = sample_transformer(tf.random.uniform((64, 62)),True)"
      ],
      "execution_count": 0,
      "outputs": []
    },
    {
      "cell_type": "code",
      "metadata": {
        "id": "6nJU1eLHZM7e",
        "colab_type": "code",
        "colab": {
          "base_uri": "https://localhost:8080/",
          "height": 35
        },
        "outputId": "40105001-31c1-4f85-b3a3-6a18b51a2da6"
      },
      "source": [
        "sample_output.shape"
      ],
      "execution_count": 36,
      "outputs": [
        {
          "output_type": "execute_result",
          "data": {
            "text/plain": [
              "TensorShape([64, 2])"
            ]
          },
          "metadata": {
            "tags": []
          },
          "execution_count": 36
        }
      ]
    },
    {
      "cell_type": "markdown",
      "metadata": {
        "colab_type": "text",
        "id": "JTfn90EhbfdB"
      },
      "source": [
        "#### (7) hyperparameters"
      ]
    },
    {
      "cell_type": "code",
      "metadata": {
        "colab_type": "code",
        "id": "Wq9maWKGbfdI",
        "colab": {}
      },
      "source": [
        "num_layers = 2\n",
        "d_model = 128\n",
        "final_hidden_units = 64\n",
        "dff = 512\n",
        "num_heads = 8\n",
        "vocab_size = vocab_size\n",
        "dropout_rate = 0.1\n",
        "num_classes = 2"
      ],
      "execution_count": 0,
      "outputs": []
    },
    {
      "cell_type": "code",
      "metadata": {
        "id": "GdkgYboQZM7l",
        "colab_type": "code",
        "colab": {}
      },
      "source": [
        "text_classifer = Transformer(vocab_size=vocab_size,d_model=d_model,num_layers=num_layers,num_heads=num_heads,\n",
        "                             dff=dff,rate=dropout_rate,final_hidden_units=final_hidden_units,num_classes=num_classes)"
      ],
      "execution_count": 0,
      "outputs": []
    },
    {
      "cell_type": "code",
      "metadata": {
        "id": "QCcPNY9XZM7o",
        "colab_type": "code",
        "colab": {}
      },
      "source": [
        "inputs = keras.layers.Input(shape=(maxlen,))"
      ],
      "execution_count": 0,
      "outputs": []
    },
    {
      "cell_type": "code",
      "metadata": {
        "id": "wAD29t7iZM7w",
        "colab_type": "code",
        "colab": {}
      },
      "source": [
        "outputs,attention_weight = text_classifer(inputs,True)"
      ],
      "execution_count": 0,
      "outputs": []
    },
    {
      "cell_type": "code",
      "metadata": {
        "id": "yYBXYxLzZM70",
        "colab_type": "code",
        "colab": {}
      },
      "source": [
        "model = keras.Model(inputs = inputs,outputs = outputs)"
      ],
      "execution_count": 0,
      "outputs": []
    },
    {
      "cell_type": "code",
      "metadata": {
        "id": "Ei1yhOJKZM73",
        "colab_type": "code",
        "colab": {}
      },
      "source": [
        "# model.compile(\"adam\", \"sparse_categorical_crossentropy\", metrics=[\"accuracy\"])\n",
        "# history = model.fit(\n",
        "#     input_tensor_train.numpy(), output_tensor_train.numpy(), batch_size=32, epochs=10, validation_data=(input_tensor_val.numpy() , output_tensor_val.numpy())\n",
        "# )\n"
      ],
      "execution_count": 0,
      "outputs": []
    },
    {
      "cell_type": "markdown",
      "metadata": {
        "id": "0_pd6l6ZZM7_",
        "colab_type": "text"
      },
      "source": [
        "#### (8) Optimizer"
      ]
    },
    {
      "cell_type": "code",
      "metadata": {
        "id": "sIyy2j39ZM8A",
        "colab_type": "code",
        "colab": {}
      },
      "source": [
        "class CustomSchedule(tf.keras.optimizers.schedules.LearningRateSchedule):\n",
        "    def __init__(self, d_model, warmup_steps=4000):\n",
        "        super(CustomSchedule, self).__init__()\n",
        "\n",
        "        self.d_model = d_model\n",
        "        self.d_model = tf.cast(self.d_model, tf.float32)\n",
        "\n",
        "        self.warmup_steps = warmup_steps\n",
        "\n",
        "    def __call__(self, step):\n",
        "        arg1 = tf.math.rsqrt(step)\n",
        "        arg2 = step * (self.warmup_steps ** -0.8)\n",
        "\n",
        "        return tf.math.rsqrt(self.d_model) * tf.math.minimum(arg1, arg2)"
      ],
      "execution_count": 0,
      "outputs": []
    },
    {
      "cell_type": "code",
      "metadata": {
        "id": "c297xeBYZM8C",
        "colab_type": "code",
        "colab": {
          "base_uri": "https://localhost:8080/",
          "height": 299
        },
        "outputId": "38014c93-085e-416f-b9e7-9d4a8638a037"
      },
      "source": [
        "temp_learning_rate_schedule = CustomSchedule(d_model)\n",
        "\n",
        "plt.plot(temp_learning_rate_schedule(tf.range(400, dtype=tf.float32)))\n",
        "plt.ylabel(\"Learning Rate\")\n",
        "plt.xlabel(\"Train Step\")"
      ],
      "execution_count": 43,
      "outputs": [
        {
          "output_type": "execute_result",
          "data": {
            "text/plain": [
              "Text(0.5, 0, 'Train Step')"
            ]
          },
          "metadata": {
            "tags": []
          },
          "execution_count": 43
        },
        {
          "output_type": "display_data",
          "data": {
            "image/png": "[encoded data removed]",
            "text/plain": [
              "<Figure size 432x288 with 1 Axes>"
            ]
          },
          "metadata": {
            "tags": [],
            "needs_background": "light"
          }
        }
      ]
    },
    {
      "cell_type": "code",
      "metadata": {
        "id": "EvFADBMLZM8G",
        "colab_type": "code",
        "colab": {}
      },
      "source": [
        "learning_rate = CustomSchedule(d_model)"
      ],
      "execution_count": 0,
      "outputs": []
    },
    {
      "cell_type": "code",
      "metadata": {
        "id": "MgniDxuXZM8I",
        "colab_type": "code",
        "colab": {
          "base_uri": "https://localhost:8080/",
          "height": 35
        },
        "outputId": "5e38ce39-961a-4539-b679-d8fec34ea991"
      },
      "source": [
        "learning_rate"
      ],
      "execution_count": 45,
      "outputs": [
        {
          "output_type": "execute_result",
          "data": {
            "text/plain": [
              "<__main__.CustomSchedule at 0x7ff2be18f208>"
            ]
          },
          "metadata": {
            "tags": []
          },
          "execution_count": 45
        }
      ]
    },
    {
      "cell_type": "code",
      "metadata": {
        "id": "jPB0ExLCZM8P",
        "colab_type": "code",
        "colab": {}
      },
      "source": [
        "optimizer = tf.keras.optimizers.Adam(learning_rate, beta_1=0.9, beta_2=0.98, \n",
        "                                     epsilon=1e-9)"
      ],
      "execution_count": 0,
      "outputs": []
    },
    {
      "cell_type": "markdown",
      "metadata": {
        "id": "6_B_AMDOZM8S",
        "colab_type": "text"
      },
      "source": [
        "#### (9) Loss and metrics¶"
      ]
    },
    {
      "cell_type": "code",
      "metadata": {
        "id": "9IPqtuOIZM8T",
        "colab_type": "code",
        "colab": {}
      },
      "source": [
        "loss_function = tf.keras.losses.SparseCategoricalCrossentropy(\n",
        "    from_logits=False, reduction='auto')"
      ],
      "execution_count": 0,
      "outputs": []
    },
    {
      "cell_type": "code",
      "metadata": {
        "id": "vSs9kq59ZM8d",
        "colab_type": "code",
        "colab": {
          "base_uri": "https://localhost:8080/",
          "height": 35
        },
        "outputId": "e1ef54cd-0486-4f29-8b51-8eaac7540b76"
      },
      "source": [
        "example_target_batch.shape"
      ],
      "execution_count": 48,
      "outputs": [
        {
          "output_type": "execute_result",
          "data": {
            "text/plain": [
              "TensorShape([64])"
            ]
          },
          "metadata": {
            "tags": []
          },
          "execution_count": 48
        }
      ]
    },
    {
      "cell_type": "code",
      "metadata": {
        "id": "3eX4dAe6ZM8g",
        "colab_type": "code",
        "colab": {
          "base_uri": "https://localhost:8080/",
          "height": 35
        },
        "outputId": "2c73930d-23f4-4f4a-8b3e-cc355763f493"
      },
      "source": [
        "sample_output.shape"
      ],
      "execution_count": 49,
      "outputs": [
        {
          "output_type": "execute_result",
          "data": {
            "text/plain": [
              "TensorShape([64, 2])"
            ]
          },
          "metadata": {
            "tags": []
          },
          "execution_count": 49
        }
      ]
    },
    {
      "cell_type": "code",
      "metadata": {
        "id": "8P8jrgnhZM8i",
        "colab_type": "code",
        "colab": {
          "base_uri": "https://localhost:8080/",
          "height": 35
        },
        "outputId": "9beb2d6a-0a7b-403b-998d-109eadb3928e"
      },
      "source": [
        "loss_function(example_target_batch,sample_output)"
      ],
      "execution_count": 50,
      "outputs": [
        {
          "output_type": "execute_result",
          "data": {
            "text/plain": [
              "<tf.Tensor: shape=(), dtype=float32, numpy=0.9165926>"
            ]
          },
          "metadata": {
            "tags": []
          },
          "execution_count": 50
        }
      ]
    },
    {
      "cell_type": "code",
      "metadata": {
        "id": "nDhaMAnqZM8l",
        "colab_type": "code",
        "colab": {}
      },
      "source": [
        "train_loss = tf.keras.metrics.Mean(name='train_loss')\n",
        "train_accuracy = tf.keras.metrics.SparseCategoricalAccuracy(\n",
        "    name='train_accuracy')"
      ],
      "execution_count": 0,
      "outputs": []
    },
    {
      "cell_type": "code",
      "metadata": {
        "id": "im2-rmYkZM8o",
        "colab_type": "code",
        "colab": {}
      },
      "source": [
        "val_loss = tf.keras.metrics.Mean(name='val_loss')\n",
        "val_accuracy = tf.keras.metrics.SparseCategoricalAccuracy(\n",
        "    name='val_accuracy')"
      ],
      "execution_count": 0,
      "outputs": []
    },
    {
      "cell_type": "markdown",
      "metadata": {
        "id": "99xgWk51ZM8v",
        "colab_type": "text"
      },
      "source": [
        "#### (10) Training"
      ]
    },
    {
      "cell_type": "code",
      "metadata": {
        "id": "qDLJTWjRZM8v",
        "colab_type": "code",
        "colab": {
          "base_uri": "https://localhost:8080/",
          "height": 35
        },
        "outputId": "e4bd0df1-e07c-4724-da7d-db62119052ed"
      },
      "source": [
        "checkpoint_path = \"./checkpoints/train\"\n",
        "\n",
        "ckpt = tf.train.Checkpoint(text_classifer=text_classifer,\n",
        "                           optimizer=optimizer)\n",
        "\n",
        "ckpt_manager = tf.train.CheckpointManager(ckpt, checkpoint_path, max_to_keep=5)\n",
        "\n",
        "# 如果检查点存在，则恢复最新的检查点。\n",
        "if ckpt_manager.latest_checkpoint:\n",
        "    ckpt.restore(ckpt_manager.latest_checkpoint)\n",
        "    print ('Latest checkpoint restored!!')"
      ],
      "execution_count": 53,
      "outputs": [
        {
          "output_type": "stream",
          "text": [
            "Latest checkpoint restored!!\n"
          ],
          "name": "stdout"
        }
      ]
    },
    {
      "cell_type": "code",
      "metadata": {
        "id": "ZR9n5NOZZM8z",
        "colab_type": "code",
        "colab": {}
      },
      "source": [
        "EPOCHS = 10"
      ],
      "execution_count": 0,
      "outputs": []
    },
    {
      "cell_type": "code",
      "metadata": {
        "id": "SAV9KBwIZM83",
        "colab_type": "code",
        "colab": {}
      },
      "source": [
        "training = True "
      ],
      "execution_count": 0,
      "outputs": []
    },
    {
      "cell_type": "code",
      "metadata": {
        "id": "q5hOrls1ZM86",
        "colab_type": "code",
        "colab": {
          "base_uri": "https://localhost:8080/",
          "height": 161
        },
        "outputId": "6993a431-50ea-4251-cc44-f224f1d50e80"
      },
      "source": [
        "example_input_batch"
      ],
      "execution_count": 56,
      "outputs": [
        {
          "output_type": "execute_result",
          "data": {
            "text/plain": [
              "<tf.Tensor: shape=(64, 200), dtype=int32, numpy=\n",
              "array([[    1,    14,   390, ...,     0,     0,     0],\n",
              "       [    1,    13,   119, ...,     0,     0,     0],\n",
              "       [    1,   198,    61, ...,     0,     0,     0],\n",
              "       ...,\n",
              "       [    1, 13907,   174, ...,     0,     0,     0],\n",
              "       [    1,   112,    15, ...,     0,     0,     0],\n",
              "       [    1,    12,   127, ...,     0,     0,     0]], dtype=int32)>"
            ]
          },
          "metadata": {
            "tags": []
          },
          "execution_count": 56
        }
      ]
    },
    {
      "cell_type": "code",
      "metadata": {
        "id": "uB5OI3CbZM88",
        "colab_type": "code",
        "colab": {}
      },
      "source": [
        "testing = False"
      ],
      "execution_count": 0,
      "outputs": []
    },
    {
      "cell_type": "code",
      "metadata": {
        "id": "sX5MWxjRZM8-",
        "colab_type": "code",
        "colab": {
          "base_uri": "https://localhost:8080/",
          "height": 161
        },
        "outputId": "a90dab43-b4fb-43bb-8bc0-c90497190fd1"
      },
      "source": [
        "input_tensor_val[:64,]"
      ],
      "execution_count": 58,
      "outputs": [
        {
          "output_type": "execute_result",
          "data": {
            "text/plain": [
              "<tf.Tensor: shape=(64, 200), dtype=int32, numpy=\n",
              "array([[   1,    4, 2026, ...,    0,    0,    0],\n",
              "       [   1,   13, 2488, ...,    0,    0,    0],\n",
              "       [   1,    4,   65, ...,    0,    0,    0],\n",
              "       ...,\n",
              "       [   1,   51,   70, ...,    0,    0,    0],\n",
              "       [   1,   39,    4, ...,    0,    0,    0],\n",
              "       [   1,  112,    6, ...,    0,    0,    0]], dtype=int32)>"
            ]
          },
          "metadata": {
            "tags": []
          },
          "execution_count": 58
        }
      ]
    },
    {
      "cell_type": "code",
      "metadata": {
        "id": "nXi7wSnZZM9A",
        "colab_type": "code",
        "colab": {}
      },
      "source": [
        "predictions_val, _ = text_classifer(input_tensor_val[:64,],testing)"
      ],
      "execution_count": 0,
      "outputs": []
    },
    {
      "cell_type": "code",
      "metadata": {
        "id": "R9-FwWTaZM9C",
        "colab_type": "code",
        "colab": {}
      },
      "source": [
        "# train_step_signature = [\n",
        "#     tf.TensorSpec(shape=(BATCH_SIZE, None), dtype=tf.int32),\n",
        "#     tf.TensorSpec(shape=(BATCH_SIZE, None), dtype=tf.int32),\n",
        "#     tf.TensorSpec(shape=(BATCH_SIZE, None), dtype=tf.int32),\n",
        "#     tf.TensorSpec(shape=(BATCH_SIZE, None), dtype=tf.int32),\n",
        "# ]\n",
        "\n",
        "@tf.function\n",
        "def train_step(inp, tar):\n",
        "    with tf.GradientTape() as tape:\n",
        "        predictions, _ = text_classifer(inp,True)\n",
        "        loss = loss_function(tar, predictions)\n",
        "        \n",
        "    gradients = tape.gradient(loss, text_classifer.trainable_variables)    \n",
        "    optimizer.apply_gradients(zip(gradients, text_classifer.trainable_variables))\n",
        "\n",
        "    train_loss(loss)\n",
        "    train_accuracy(tar, predictions)"
      ],
      "execution_count": 0,
      "outputs": []
    },
    {
      "cell_type": "code",
      "metadata": {
        "id": "hrNaJqYDZM9E",
        "colab_type": "code",
        "colab": {}
      },
      "source": [
        "def val_step(inp_val,tar_val):\n",
        "    predictions_val, _ = text_classifer(inp_val,False)\n",
        "    loss_val = loss_function(tar_val, predictions_val)\n",
        "    \n",
        "    val_loss(loss_val)\n",
        "    val_accuracy(tar_val,predictions_val)\n",
        "    "
      ],
      "execution_count": 0,
      "outputs": []
    },
    {
      "cell_type": "code",
      "metadata": {
        "id": "AWuLxBRudC_W",
        "colab_type": "code",
        "colab": {
          "base_uri": "https://localhost:8080/",
          "height": 161
        },
        "outputId": "b708b29a-71e8-4d18-85fb-c2c918811fc6"
      },
      "source": [
        "input_tensor_val"
      ],
      "execution_count": 62,
      "outputs": [
        {
          "output_type": "execute_result",
          "data": {
            "text/plain": [
              "<tf.Tensor: shape=(3913, 200), dtype=int32, numpy=\n",
              "array([[   1,    4, 2026, ...,    0,    0,    0],\n",
              "       [   1,   13, 2488, ...,    0,    0,    0],\n",
              "       [   1,    4,   65, ...,    0,    0,    0],\n",
              "       ...,\n",
              "       [   1,   13, 1408, ...,    0,    0,    0],\n",
              "       [   1,   11,  119, ...,    0,    0,    0],\n",
              "       [   1,    6,   52, ...,    0,    0,    0]], dtype=int32)>"
            ]
          },
          "metadata": {
            "tags": []
          },
          "execution_count": 62
        }
      ]
    },
    {
      "cell_type": "code",
      "metadata": {
        "id": "HFkiJ4rSdDpb",
        "colab_type": "code",
        "colab": {
          "base_uri": "https://localhost:8080/",
          "height": 35
        },
        "outputId": "6fbaa178-0499-43db-802a-7d11b154c240"
      },
      "source": [
        "output_tensor_val"
      ],
      "execution_count": 63,
      "outputs": [
        {
          "output_type": "execute_result",
          "data": {
            "text/plain": [
              "<tf.Tensor: shape=(3913,), dtype=float32, numpy=array([0., 0., 1., ..., 0., 0., 0.], dtype=float32)>"
            ]
          },
          "metadata": {
            "tags": []
          },
          "execution_count": 63
        }
      ]
    },
    {
      "cell_type": "code",
      "metadata": {
        "id": "C1MTFAigZM9H",
        "colab_type": "code",
        "colab": {}
      },
      "source": [
        "val_dataset = tf.data.Dataset.from_tensor_slices((input_tensor_val, output_tensor_val)).shuffle(len(input_tensor_val))\n",
        "val_dataset = val_dataset.batch(BATCH_SIZE, drop_remainder=True)"
      ],
      "execution_count": 0,
      "outputs": []
    },
    {
      "cell_type": "code",
      "metadata": {
        "id": "fwzjJ54OcA6Q",
        "colab_type": "code",
        "colab": {
          "base_uri": "https://localhost:8080/",
          "height": 107
        },
        "outputId": "7d3af8b5-7cb9-485b-be8c-f7939af7ba3f"
      },
      "source": [
        "next(iter(val_dataset))[1]"
      ],
      "execution_count": 65,
      "outputs": [
        {
          "output_type": "execute_result",
          "data": {
            "text/plain": [
              "<tf.Tensor: shape=(64,), dtype=float32, numpy=\n",
              "array([1., 0., 0., 1., 0., 0., 1., 1., 1., 1., 0., 1., 1., 1., 0., 1., 1.,\n",
              "       0., 0., 1., 0., 0., 0., 1., 1., 1., 0., 0., 0., 0., 1., 0., 0., 1.,\n",
              "       1., 1., 1., 0., 1., 0., 0., 1., 1., 1., 0., 1., 1., 1., 1., 0., 1.,\n",
              "       0., 0., 0., 1., 1., 0., 1., 1., 0., 1., 0., 0., 1.], dtype=float32)>"
            ]
          },
          "metadata": {
            "tags": []
          },
          "execution_count": 65
        }
      ]
    },
    {
      "cell_type": "code",
      "metadata": {
        "id": "R8DFYM6nZM9I",
        "colab_type": "code",
        "colab": {
          "base_uri": "https://localhost:8080/",
          "height": 1000
        },
        "outputId": "ca2bece4-9c0f-4ff7-d4c5-51eb2e4356c8"
      },
      "source": [
        "for epoch in range(EPOCHS):\n",
        "    start = time.time()\n",
        "    train_loss.reset_states()\n",
        "    train_accuracy.reset_states()\n",
        "\n",
        "    val_loss.reset_states()\n",
        "    val_accuracy.reset_states()\n",
        "\n",
        "\n",
        "    for (batch, (inp, tar)) in enumerate(dataset):\n",
        "        \n",
        "        train_step(inp, tar)\n",
        "        \n",
        "        if batch % 50 == 0:\n",
        "            print ('Epoch {} Batch {} Traing Loss {:.4f} Traing Accuracy {:.4f}'.format(\n",
        "                epoch + 1, batch, train_loss.result(), train_accuracy.result(), ))\n",
        "\n",
        "\n",
        "    for (val_inp,val_tar) in val_dataset:\n",
        "        val_step(val_inp,val_tar)\n",
        "    \n",
        "\n",
        "    if (epoch + 1) % 5 == 0:\n",
        "        ckpt_save_path = ckpt_manager.save()\n",
        "        print ('Saving checkpoint for epoch {} at {}'.format(epoch+1,ckpt_save_path))\n",
        "\n",
        "    print ('Epoch {} Training Loss {:.4f} Training Accuracy {:.4f} Val Loss {:.4f} Val Accuracy {:.4f}'.format(epoch + 1, \n",
        "                                                train_loss.result(), \n",
        "                                                train_accuracy.result(),\n",
        "                                                val_loss.result(),\n",
        "                                                val_accuracy.result()))\n",
        "\n",
        "    print ('Time taken for 1 epoch: {} secs\\n'.format(time.time() - start))"
      ],
      "execution_count": 66,
      "outputs": [
        {
          "output_type": "stream",
          "text": [
            "Epoch 1 Batch 0 Traing Loss 0.2706 Traing Accuracy 0.8594\n",
            "Epoch 1 Batch 50 Traing Loss 0.2091 Traing Accuracy 0.9222\n",
            "Epoch 1 Batch 100 Traing Loss 0.2181 Traing Accuracy 0.9172\n",
            "Epoch 1 Batch 150 Traing Loss 0.2205 Traing Accuracy 0.9153\n",
            "Epoch 1 Batch 200 Traing Loss 0.2256 Traing Accuracy 0.9124\n",
            "Epoch 1 Batch 250 Traing Loss 0.2300 Traing Accuracy 0.9116\n",
            "Epoch 1 Batch 300 Traing Loss 0.2310 Traing Accuracy 0.9110\n",
            "Epoch 1 Batch 350 Traing Loss 0.2328 Traing Accuracy 0.9095\n",
            "Epoch 1 Training Loss 0.2341 Training Accuracy 0.9082 Val Loss 0.3929 Val Accuracy 0.8404\n",
            "Time taken for 1 epoch: 22.49802851676941 secs\n",
            "\n",
            "Epoch 2 Batch 0 Traing Loss 0.1722 Traing Accuracy 0.9062\n",
            "Epoch 2 Batch 50 Traing Loss 0.2119 Traing Accuracy 0.9213\n",
            "Epoch 2 Batch 100 Traing Loss 0.2218 Traing Accuracy 0.9148\n",
            "Epoch 2 Batch 150 Traing Loss 0.2200 Traing Accuracy 0.9136\n",
            "Epoch 2 Batch 200 Traing Loss 0.2231 Traing Accuracy 0.9132\n",
            "Epoch 2 Batch 250 Traing Loss 0.2255 Traing Accuracy 0.9125\n",
            "Epoch 2 Batch 300 Traing Loss 0.2239 Traing Accuracy 0.9142\n",
            "Epoch 2 Batch 350 Traing Loss 0.2251 Traing Accuracy 0.9132\n",
            "Epoch 2 Training Loss 0.2249 Training Accuracy 0.9125 Val Loss 0.3819 Val Accuracy 0.8430\n",
            "Time taken for 1 epoch: 20.92406964302063 secs\n",
            "\n",
            "Epoch 3 Batch 0 Traing Loss 0.2024 Traing Accuracy 0.9531\n",
            "Epoch 3 Batch 50 Traing Loss 0.2025 Traing Accuracy 0.9246\n",
            "Epoch 3 Batch 100 Traing Loss 0.2002 Traing Accuracy 0.9256\n",
            "Epoch 3 Batch 150 Traing Loss 0.2016 Traing Accuracy 0.9250\n",
            "Epoch 3 Batch 200 Traing Loss 0.2067 Traing Accuracy 0.9231\n",
            "Epoch 3 Batch 250 Traing Loss 0.2088 Traing Accuracy 0.9216\n",
            "Epoch 3 Batch 300 Traing Loss 0.2116 Traing Accuracy 0.9199\n",
            "Epoch 3 Batch 350 Traing Loss 0.2137 Traing Accuracy 0.9187\n",
            "Epoch 3 Training Loss 0.2138 Training Accuracy 0.9184 Val Loss 0.4206 Val Accuracy 0.8422\n",
            "Time taken for 1 epoch: 20.87139081954956 secs\n",
            "\n",
            "Epoch 4 Batch 0 Traing Loss 0.1405 Traing Accuracy 0.9531\n",
            "Epoch 4 Batch 50 Traing Loss 0.1908 Traing Accuracy 0.9283\n",
            "Epoch 4 Batch 100 Traing Loss 0.1915 Traing Accuracy 0.9290\n",
            "Epoch 4 Batch 150 Traing Loss 0.1869 Traing Accuracy 0.9292\n",
            "Epoch 4 Batch 200 Traing Loss 0.1881 Traing Accuracy 0.9291\n",
            "Epoch 4 Batch 250 Traing Loss 0.1922 Traing Accuracy 0.9277\n",
            "Epoch 4 Batch 300 Traing Loss 0.1961 Traing Accuracy 0.9260\n",
            "Epoch 4 Batch 350 Traing Loss 0.1979 Traing Accuracy 0.9253\n",
            "Epoch 4 Training Loss 0.2009 Training Accuracy 0.9238 Val Loss 0.4075 Val Accuracy 0.8432\n",
            "Time taken for 1 epoch: 20.847769021987915 secs\n",
            "\n",
            "Epoch 5 Batch 0 Traing Loss 0.1211 Traing Accuracy 0.9375\n",
            "Epoch 5 Batch 50 Traing Loss 0.1793 Traing Accuracy 0.9326\n",
            "Epoch 5 Batch 100 Traing Loss 0.1857 Traing Accuracy 0.9318\n",
            "Epoch 5 Batch 150 Traing Loss 0.1908 Traing Accuracy 0.9288\n",
            "Epoch 5 Batch 200 Traing Loss 0.1885 Traing Accuracy 0.9307\n",
            "Epoch 5 Batch 250 Traing Loss 0.1894 Traing Accuracy 0.9302\n",
            "Epoch 5 Batch 300 Traing Loss 0.1911 Traing Accuracy 0.9292\n",
            "Epoch 5 Batch 350 Traing Loss 0.1937 Traing Accuracy 0.9280\n",
            "Saving checkpoint for epoch 5 at ./checkpoints/train/ckpt-2\n",
            "Epoch 5 Training Loss 0.1933 Training Accuracy 0.9285 Val Loss 0.4754 Val Accuracy 0.8363\n",
            "Time taken for 1 epoch: 20.94085168838501 secs\n",
            "\n",
            "Epoch 6 Batch 0 Traing Loss 0.4113 Traing Accuracy 0.8438\n",
            "Epoch 6 Batch 50 Traing Loss 0.1691 Traing Accuracy 0.9375\n",
            "Epoch 6 Batch 100 Traing Loss 0.1774 Traing Accuracy 0.9355\n",
            "Epoch 6 Batch 150 Traing Loss 0.1753 Traing Accuracy 0.9359\n",
            "Epoch 6 Batch 200 Traing Loss 0.1802 Traing Accuracy 0.9341\n",
            "Epoch 6 Batch 250 Traing Loss 0.1830 Traing Accuracy 0.9334\n",
            "Epoch 6 Batch 300 Traing Loss 0.1832 Traing Accuracy 0.9322\n",
            "Epoch 6 Batch 350 Traing Loss 0.1826 Traing Accuracy 0.9320\n",
            "Epoch 6 Training Loss 0.1821 Training Accuracy 0.9320 Val Loss 0.4627 Val Accuracy 0.8399\n",
            "Time taken for 1 epoch: 21.04852533340454 secs\n",
            "\n",
            "Epoch 7 Batch 0 Traing Loss 0.3081 Traing Accuracy 0.8750\n",
            "Epoch 7 Batch 50 Traing Loss 0.1714 Traing Accuracy 0.9378\n",
            "Epoch 7 Batch 100 Traing Loss 0.1708 Traing Accuracy 0.9373\n",
            "Epoch 7 Batch 150 Traing Loss 0.1700 Traing Accuracy 0.9378\n",
            "Epoch 7 Batch 200 Traing Loss 0.1702 Traing Accuracy 0.9376\n",
            "Epoch 7 Batch 250 Traing Loss 0.1687 Traing Accuracy 0.9382\n",
            "Epoch 7 Batch 300 Traing Loss 0.1698 Traing Accuracy 0.9373\n",
            "Epoch 7 Batch 350 Traing Loss 0.1703 Traing Accuracy 0.9373\n",
            "Epoch 7 Training Loss 0.1712 Training Accuracy 0.9370 Val Loss 0.4566 Val Accuracy 0.8376\n",
            "Time taken for 1 epoch: 20.840665102005005 secs\n",
            "\n",
            "Epoch 8 Batch 0 Traing Loss 0.1085 Traing Accuracy 0.9844\n",
            "Epoch 8 Batch 50 Traing Loss 0.1615 Traing Accuracy 0.9409\n",
            "Epoch 8 Batch 100 Traing Loss 0.1608 Traing Accuracy 0.9423\n",
            "Epoch 8 Batch 150 Traing Loss 0.1591 Traing Accuracy 0.9440\n",
            "Epoch 8 Batch 200 Traing Loss 0.1578 Traing Accuracy 0.9440\n",
            "Epoch 8 Batch 250 Traing Loss 0.1578 Traing Accuracy 0.9431\n",
            "Epoch 8 Batch 300 Traing Loss 0.1590 Traing Accuracy 0.9420\n",
            "Epoch 8 Batch 350 Traing Loss 0.1619 Traing Accuracy 0.9415\n",
            "Epoch 8 Training Loss 0.1632 Training Accuracy 0.9410 Val Loss 0.4830 Val Accuracy 0.8368\n",
            "Time taken for 1 epoch: 20.83731698989868 secs\n",
            "\n",
            "Epoch 9 Batch 0 Traing Loss 0.1465 Traing Accuracy 0.9375\n",
            "Epoch 9 Batch 50 Traing Loss 0.1413 Traing Accuracy 0.9513\n",
            "Epoch 9 Batch 100 Traing Loss 0.1430 Traing Accuracy 0.9485\n",
            "Epoch 9 Batch 150 Traing Loss 0.1425 Traing Accuracy 0.9483\n",
            "Epoch 9 Batch 200 Traing Loss 0.1451 Traing Accuracy 0.9481\n",
            "Epoch 9 Batch 250 Traing Loss 0.1470 Traing Accuracy 0.9473\n",
            "Epoch 9 Batch 300 Traing Loss 0.1488 Traing Accuracy 0.9462\n",
            "Epoch 9 Batch 350 Traing Loss 0.1506 Traing Accuracy 0.9456\n",
            "Epoch 9 Training Loss 0.1538 Training Accuracy 0.9447 Val Loss 0.4818 Val Accuracy 0.8397\n",
            "Time taken for 1 epoch: 20.826541662216187 secs\n",
            "\n",
            "Epoch 10 Batch 0 Traing Loss 0.1251 Traing Accuracy 0.9531\n",
            "Epoch 10 Batch 50 Traing Loss 0.1434 Traing Accuracy 0.9528\n",
            "Epoch 10 Batch 100 Traing Loss 0.1420 Traing Accuracy 0.9502\n",
            "Epoch 10 Batch 150 Traing Loss 0.1414 Traing Accuracy 0.9503\n",
            "Epoch 10 Batch 200 Traing Loss 0.1417 Traing Accuracy 0.9499\n",
            "Epoch 10 Batch 250 Traing Loss 0.1420 Traing Accuracy 0.9500\n",
            "Epoch 10 Batch 300 Traing Loss 0.1418 Traing Accuracy 0.9497\n",
            "Epoch 10 Batch 350 Traing Loss 0.1437 Traing Accuracy 0.9487\n",
            "Saving checkpoint for epoch 10 at ./checkpoints/train/ckpt-3\n",
            "Epoch 10 Training Loss 0.1439 Training Accuracy 0.9486 Val Loss 0.4938 Val Accuracy 0.8397\n",
            "Time taken for 1 epoch: 20.90208888053894 secs\n",
            "\n"
          ],
          "name": "stdout"
        }
      ]
    },
    {
      "cell_type": "code",
      "metadata": {
        "id": "0-uwbkQTaZta",
        "colab_type": "code",
        "colab": {}
      },
      "source": [
        ""
      ],
      "execution_count": 0,
      "outputs": []
    }
  ]
}